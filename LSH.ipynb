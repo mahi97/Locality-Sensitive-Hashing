{
  "nbformat": 4,
  "nbformat_minor": 0,
  "metadata": {
    "colab": {
      "name": "hw1.ipynb",
      "provenance": [],
      "collapsed_sections": [],
      "toc_visible": true
    },
    "kernelspec": {
      "name": "python3",
      "display_name": "Python 3"
    }
  },
  "cells": [
    {
      "cell_type": "code",
      "metadata": {
        "id": "pbm89NIAxqYF"
      },
      "source": [
        "import numpy as np\r\n",
        "import matplotlib.pyplot as plt\r\n",
        "from sklearn import datasets\r\n",
        "from tqdm import tqdm\r\n",
        "\r\n",
        "from collections import defaultdict\r\n",
        "import itertools\r\n",
        "import re\r\n",
        "import time\r\n",
        "import math\r\n",
        "import os"
      ],
      "execution_count": 1,
      "outputs": []
    },
    {
      "cell_type": "code",
      "metadata": {
        "colab": {
          "base_uri": "https://localhost:8080/"
        },
        "id": "ej4Bi-uCONYD",
        "outputId": "7a3aa1cf-7e48-4536-9fe7-558091e8cd31"
      },
      "source": [
        "from google.colab import drive\n",
        "drive.mount('/content/drive')"
      ],
      "execution_count": 2,
      "outputs": [
        {
          "output_type": "stream",
          "text": [
            "Mounted at /content/drive\n"
          ],
          "name": "stdout"
        }
      ]
    },
    {
      "cell_type": "code",
      "metadata": {
        "colab": {
          "base_uri": "https://localhost:8080/",
          "height": 35
        },
        "id": "CX0fomxrOk-I",
        "outputId": "c3967104-f1a7-4a11-c319-8b131efcf69f"
      },
      "source": [
        "os.chdir('/content/drive/MyDrive/DM/HW1')\r\n",
        "os.getcwd()"
      ],
      "execution_count": 3,
      "outputs": [
        {
          "output_type": "execute_result",
          "data": {
            "application/vnd.google.colaboratory.intrinsic+json": {
              "type": "string"
            },
            "text/plain": [
              "'/content/drive/MyDrive/DM/HW1'"
            ]
          },
          "metadata": {
            "tags": []
          },
          "execution_count": 3
        }
      ]
    },
    {
      "cell_type": "code",
      "metadata": {
        "id": "BvljlQOnIbyW"
      },
      "source": [
        "### You may import any Python's standard library here (Do not import other external libraries) ###"
      ],
      "execution_count": 4,
      "outputs": []
    },
    {
      "cell_type": "code",
      "metadata": {
        "id": "yL2ZJBoHId7V"
      },
      "source": [
        "pass_test_1 = False\r\n",
        "pass_test_2 = False\r\n",
        "pass_test_3 = False\r\n",
        "pass_test_4 = False\r\n",
        "pass_test_5 = False\r\n",
        "pass_test_6 = False\r\n",
        "pass_test_7 = False\r\n",
        "pass_test_8 = False\r\n",
        "pass_test_9 = False"
      ],
      "execution_count": 5,
      "outputs": []
    },
    {
      "cell_type": "markdown",
      "metadata": {
        "id": "dRfb-8jb4rxZ"
      },
      "source": [
        "## Implementing LSH algorithm"
      ]
    },
    {
      "cell_type": "markdown",
      "metadata": {
        "id": "-6FBB_DP4zMh"
      },
      "source": [
        "### 0. Dataset"
      ]
    },
    {
      "cell_type": "markdown",
      "metadata": {
        "id": "gV-UZEHD40PS"
      },
      "source": [
        "#### 0.1 Import 20-news dataset"
      ]
    },
    {
      "cell_type": "code",
      "metadata": {
        "id": "3mFM3s5i47IG"
      },
      "source": [
        "newsgroup_dataset = datasets.fetch_20newsgroups(data_home='./dataset/', subset='train', \r\n",
        "                                                remove=('headers', 'footers', 'quotes'), download_if_missing=True)"
      ],
      "execution_count": 6,
      "outputs": []
    },
    {
      "cell_type": "code",
      "metadata": {
        "id": "M-lb9GPZ483S",
        "colab": {
          "base_uri": "https://localhost:8080/"
        },
        "outputId": "b5d95d0b-a22a-4cca-bfdf-6e6014a63086"
      },
      "source": [
        "raw_documents = newsgroup_dataset['data']\r\n",
        "len(raw_documents)"
      ],
      "execution_count": 7,
      "outputs": [
        {
          "output_type": "execute_result",
          "data": {
            "text/plain": [
              "11314"
            ]
          },
          "metadata": {
            "tags": []
          },
          "execution_count": 7
        }
      ]
    },
    {
      "cell_type": "code",
      "metadata": {
        "id": "LmBlWF5P4-As",
        "colab": {
          "base_uri": "https://localhost:8080/",
          "height": 51
        },
        "outputId": "5a1e7671-dcb4-41cf-f9d7-178cd3d1fe4b"
      },
      "source": [
        "raw_documents[0]"
      ],
      "execution_count": 8,
      "outputs": [
        {
          "output_type": "execute_result",
          "data": {
            "application/vnd.google.colaboratory.intrinsic+json": {
              "type": "string"
            },
            "text/plain": [
              "'I was wondering if anyone out there could enlighten me on this car I saw\\nthe other day. It was a 2-door sports car, looked to be from the late 60s/\\nearly 70s. It was called a Bricklin. The doors were really small. In addition,\\nthe front bumper was separate from the rest of the body. This is \\nall I know. If anyone can tellme a model name, engine specs, years\\nof production, where this car is made, history, or whatever info you\\nhave on this funky looking car, please e-mail.'"
            ]
          },
          "metadata": {
            "tags": []
          },
          "execution_count": 8
        }
      ]
    },
    {
      "cell_type": "markdown",
      "metadata": {
        "id": "kfzJeRAt4_fB"
      },
      "source": [
        "#### 0.2 Preprocess the documents"
      ]
    },
    {
      "cell_type": "code",
      "metadata": {
        "id": "s2LacYuB5BaZ"
      },
      "source": [
        "K = 5"
      ],
      "execution_count": 9,
      "outputs": []
    },
    {
      "cell_type": "code",
      "metadata": {
        "id": "b5IitVxj5CbR"
      },
      "source": [
        "def preprocess(documents):\r\n",
        "    processed_words = defaultdict(list)\r\n",
        "    cnt = 0\r\n",
        "    \r\n",
        "    for doc in documents:\r\n",
        "        # first, filter out some uncesseary symbols like punctuations\r\n",
        "        doc = re.sub('\\/|\\-|\\'|\\@|\\%|\\$|\\#|\\,|\\(|\\)|\\}|\\\"|\\{|\\?|\\.|\\!|\\;|\\:', '', doc)\r\n",
        "        \r\n",
        "        # second, split the document into the words\r\n",
        "        for word in doc.split():\r\n",
        "            \r\n",
        "            # third, let word to be the lower-case\r\n",
        "            if word.isalpha():\r\n",
        "                processed_words[cnt].append(word.lower())\r\n",
        "        \r\n",
        "        # fourth, filter out the articles that has less than k words\r\n",
        "        if len(processed_words[cnt]) < K:\r\n",
        "            continue\r\n",
        "        else:\r\n",
        "            processed_words[cnt] = ' '.join(processed_words[cnt])\r\n",
        "            cnt += 1\r\n",
        "\r\n",
        "    return list(processed_words.values())"
      ],
      "execution_count": 10,
      "outputs": []
    },
    {
      "cell_type": "code",
      "metadata": {
        "id": "vjRNu3W45Dfh",
        "colab": {
          "base_uri": "https://localhost:8080/"
        },
        "outputId": "007e86a2-53b9-400f-9325-e6295a4a5512"
      },
      "source": [
        "documents = preprocess(raw_documents)\r\n",
        "del raw_documents\r\n",
        "len(documents)"
      ],
      "execution_count": 11,
      "outputs": [
        {
          "output_type": "execute_result",
          "data": {
            "text/plain": [
              "10882"
            ]
          },
          "metadata": {
            "tags": []
          },
          "execution_count": 11
        }
      ]
    },
    {
      "cell_type": "code",
      "metadata": {
        "id": "BlIxYcM95E6h",
        "colab": {
          "base_uri": "https://localhost:8080/",
          "height": 51
        },
        "outputId": "cc41f831-f914-44f4-8a36-1f113ba39168"
      },
      "source": [
        "documents[0]"
      ],
      "execution_count": 12,
      "outputs": [
        {
          "output_type": "execute_result",
          "data": {
            "application/vnd.google.colaboratory.intrinsic+json": {
              "type": "string"
            },
            "text/plain": [
              "'i was wondering if anyone out there could enlighten me on this car i saw the other day it was a sports car looked to be from the late early it was called a bricklin the doors were really small in addition the front bumper was separate from the rest of the body this is all i know if anyone can tellme a model name engine specs years of production where this car is made history or whatever info you have on this funky looking car please email'"
            ]
          },
          "metadata": {
            "tags": []
          },
          "execution_count": 12
        }
      ]
    },
    {
      "cell_type": "markdown",
      "metadata": {
        "id": "UZqFw4DE43NZ"
      },
      "source": [
        "### 1. Shingling"
      ]
    },
    {
      "cell_type": "code",
      "metadata": {
        "id": "b_CP64oHIrKI"
      },
      "source": [
        "########################################################################################################################\r\n",
        "# Programming 1  [15pt]                                                                                                #\r\n",
        "#  In this section, you will implement the shingling algorithm to convert the document into the characteristic matrix. #\r\n",
        "#  However, since storing the whole characteristic matrix in the form of a dense matrix is expensivein terms of space, #\r\n",
        "#    your implementation should store the characteristic matrix in the form of a dictionary.                           #\r\n",
        "#                                                                                                                      #\r\n",
        "#    i) get the all unique shingles from the documents [10pt]                                                          #\r\n",
        "#   ii) create the dictionary that maps each document to the list of shingles and their counts [5pt]                   #\r\n",
        "#                                                                                                                      #\r\n",
        "#  Note that, shingling is divided into 2-steps just for the readability of the algorithm                              #\r\n",
        "#                                                                                                                      #\r\n",
        "########################################################################################################################"
      ],
      "execution_count": 13,
      "outputs": []
    },
    {
      "cell_type": "markdown",
      "metadata": {
        "id": "oW8xfwW95GjB"
      },
      "source": [
        "#### 1.1 Get Shingles from the documents"
      ]
    },
    {
      "cell_type": "code",
      "metadata": {
        "id": "JWfcq3gc5Kwi"
      },
      "source": [
        "def get_shingles(documents, k):\r\n",
        "    #######################################################################################\r\n",
        "    # Programming 1.1  [10pt]                                                             #\r\n",
        "    #  Implement 'get_shingles' function to get k-singles from the preprocessed documents #\r\n",
        "    #  You should especially be take care of your algorithm's computational efficiency    #\r\n",
        "    #                                                                                     #\r\n",
        "    #  Parameters:                                                                        #\r\n",
        "    #    documents (dict)                                                                 #\r\n",
        "    #    k (int)                                                                         #\r\n",
        "    #                                                                                     # \r\n",
        "    #  Returns:                                                                           #\r\n",
        "    #    shingles (set) set of tuples where each element is a k-shingle                   #\r\n",
        "    #    ex) shingles = {('its', 'hard', 'to', 'say', 'whether'),                         #\r\n",
        "    #                    ('known', 'bugs', 'in', 'the', 'warning') ...}                   #\r\n",
        "    #######################################################################################\r\n",
        "    \r\n",
        "    shingles = set()\r\n",
        "    for doc in documents:\r\n",
        "      l = doc.split()\r\n",
        "      [shingles.add(tuple(l[i:i+k])) for i in range(len(l) - k + 1)]\r\n",
        " \r\n",
        "    return shingles"
      ],
      "execution_count": 14,
      "outputs": []
    },
    {
      "cell_type": "code",
      "metadata": {
        "id": "4fSw27n85LVB",
        "colab": {
          "base_uri": "https://localhost:8080/"
        },
        "outputId": "ebd4a163-137f-4263-b6c4-0991441d8956"
      },
      "source": [
        "start = time.time()\r\n",
        "shingles = get_shingles(documents, 5)\r\n",
        "end = time.time()\r\n",
        "print(end - start)\r\n",
        "\r\n",
        "# Check whether your implementation is correct  [5pt]\r\n",
        "if len(shingles) == 1766049:\r\n",
        "  pass_test_1 = True\r\n",
        "  print('Test 1 passed')\r\n",
        "\r\n",
        "  # Check whether your implementation is efficient enough [5pt]\r\n",
        "  if (end - start) < 20:\r\n",
        "    pass_test_2 = True\r\n",
        "    print('Test 2 passed')"
      ],
      "execution_count": 15,
      "outputs": [
        {
          "output_type": "stream",
          "text": [
            "1.5060362815856934\n",
            "Test 1 passed\n",
            "Test 2 passed\n"
          ],
          "name": "stdout"
        }
      ]
    },
    {
      "cell_type": "markdown",
      "metadata": {
        "id": "-xkjcbdw5Sap"
      },
      "source": [
        "#### 1.2 Build dictionary"
      ]
    },
    {
      "cell_type": "code",
      "metadata": {
        "id": "d4Ge2WPAKKX-"
      },
      "source": [
        "def build_doc_to_shingle_dictionary(documents, shingles):\r\n",
        "    ################################################################################################################################\r\n",
        "    # Programming 1.2 [5pt]                                                                                                        #\r\n",
        "    #  Implement 'build_doc_to_shingle_dictionary' function to convert documents into shingle dictionary with documents & shingles #\r\n",
        "    #   You need to construct and utilize a shingle2idx dictionary that maps each shingle into the uniuqe integer index.           #\r\n",
        "    #                                                                                                                              #\r\n",
        "    #  Parameters:                                                                                                                 #\r\n",
        "    #    documents (dict)                                                                                                          #                                               \r\n",
        "    #    shingles (set)                                                                                                            #          \r\n",
        "    #                                                                                                                              #\r\n",
        "    #  Returns:                                                                                                                    #\r\n",
        "    #    doc_to_shingles (dict)                                                                                                    #\r\n",
        "    #        key: index of the documents                                                                                           #\r\n",
        "    #        value: list of the shingle indexes and its counts                                                                      #\r\n",
        "    #        ex) doc_to_shingles = {0: [[1705196, 1], [422880, 1], [491967, 2], ...],                                              #\r\n",
        "    #                               1: [[863922, 1], [1381606, 2], [1524066, 1], ...],                                             #\r\n",
        "    #                               ... }                                                                                          #\r\n",
        "    ################################################################################################################################\r\n",
        "    \r\n",
        "    doc_to_shingles = {}\r\n",
        "    shingle2idx = {}\r\n",
        "    dic = {}\r\n",
        "    for i, doc in enumerate(documents):\r\n",
        "      l = doc.split()\r\n",
        "      dic[i] = [tuple(l[j:j+K]) for j in range(len(l) - K + 1)]\r\n",
        "\r\n",
        "    shingle2idx = {}\r\n",
        "    [shingle2idx.update({shi: i}) for i, shi in enumerate(shingles)]\r\n",
        "\r\n",
        "    doc_to_shingles = {}\r\n",
        "    for doc_id, shins in dic.items():\r\n",
        "        cnt = {}\r\n",
        "        [cnt.update({shingle2idx[shin]: 0}) for shin in shins]\r\n",
        "        [cnt.update({shingle2idx[shin]: cnt[shingle2idx[shin]]+1}) for shin in shins]\r\n",
        "        \r\n",
        "        doc_to_shingles[doc_id] = [[k, v] for k, v in cnt.items()] \r\n",
        "    \r\n",
        "    return doc_to_shingles"
      ],
      "execution_count": 16,
      "outputs": []
    },
    {
      "cell_type": "code",
      "metadata": {
        "id": "vwWO1AID5W26",
        "colab": {
          "base_uri": "https://localhost:8080/"
        },
        "outputId": "5ca7430a-2c88-46e5-9add-4562c9337e10"
      },
      "source": [
        "# Check whether your implementation is correct  [5pt]\r\n",
        "start = time.time()\r\n",
        "doc_to_shingles = build_doc_to_shingle_dictionary(documents, shingles)\r\n",
        "end = time.time()\r\n",
        "print(end - start)\r\n",
        "if (end - start) <= 5 * 60:\r\n",
        "  if len(doc_to_shingles) == 10882 and len(doc_to_shingles[11]) == 462 and sum([x[1] for x in doc_to_shingles[11]]) == 465:\r\n",
        "    pass_test_3 = True\r\n",
        "    print('Test 3 passed')"
      ],
      "execution_count": 17,
      "outputs": [
        {
          "output_type": "stream",
          "text": [
            "10.478061437606812\n",
            "Test 3 passed\n"
          ],
          "name": "stdout"
        }
      ]
    },
    {
      "cell_type": "markdown",
      "metadata": {
        "id": "hZ_J8lnz5ZlZ"
      },
      "source": [
        "### 2. Random Hyperplanes"
      ]
    },
    {
      "cell_type": "code",
      "metadata": {
        "id": "mAp-AXq6M6VF"
      },
      "source": [
        "############################################################################################################################\r\n",
        "# Programming 2  [25pt]                                                                                                    #\r\n",
        "#  In this section, you will implement the algorithm to convert the characteristic matrix into the signatures.             #\r\n",
        "#                                                                                                                          #\r\n",
        "#    i) implement the cosine-similarity algorithm [5pt]                                                                    #\r\n",
        "#   ii) implement the algorithm to create the signatures for the documents [20pt]                                          #\r\n",
        "#                                                                                                                          #\r\n",
        "############################################################################################################################"
      ],
      "execution_count": 18,
      "outputs": []
    },
    {
      "cell_type": "markdown",
      "metadata": {
        "id": "HH6kZgVVVK8M"
      },
      "source": [
        "#### 2.1 Cosine Similarity"
      ]
    },
    {
      "cell_type": "code",
      "metadata": {
        "id": "u7tNRYOO5Yfx"
      },
      "source": [
        "def cosine_similarity(v1, v2):\r\n",
        "    #####################################################################################\r\n",
        "    # Programming 2.2 [5pt]                                                             #                                    \r\n",
        "    #   Implement the cosine similarity algorithm to get the similarity of two vectors  #\r\n",
        "    #                                                                                   #\r\n",
        "    # Parameters                                                                        #\r\n",
        "    #    v1 (list)                                                                      #\r\n",
        "    #    v2 (list)                                                                      #\r\n",
        "    # Returns                                                                           #\r\n",
        "    #    similarity (float)                                                             #\r\n",
        "    #####################################################################################\r\n",
        "    similarity = np.dot(v1, v2) / (np.linalg.norm(v1)*np.linalg.norm(v2))\r\n",
        "\r\n",
        "    return similarity"
      ],
      "execution_count": 19,
      "outputs": []
    },
    {
      "cell_type": "code",
      "metadata": {
        "id": "MUOKvslTUkPm",
        "colab": {
          "base_uri": "https://localhost:8080/"
        },
        "outputId": "f09ab753-f6b7-424b-ccec-2910e350d48a"
      },
      "source": [
        "# Check whether your implementation is correct  [5pt]\r\n",
        "\r\n",
        "v1 = [1,0,2,0,3,4,5]\r\n",
        "v2 = [2,1,1,0,2,3,1]\r\n",
        "\r\n",
        "if abs(cosine_similarity(v1, v2) - 0.8140) < 1e-3:\r\n",
        "  pass_test_4 = True\r\n",
        "  print('Test 4 passed')"
      ],
      "execution_count": 20,
      "outputs": [
        {
          "output_type": "stream",
          "text": [
            "Test 4 passed\n"
          ],
          "name": "stdout"
        }
      ]
    },
    {
      "cell_type": "code",
      "metadata": {
        "id": "xZE5MzPVzDuJ"
      },
      "source": [
        "def doc_similarity(doc1, doc2):\r\n",
        "  v1, v2 = np.zeros(len(shingles)), np.zeros(len(shingles))\r\n",
        "  idx1, val1 = [x[0] for x in doc_to_shingles[doc1]], [x[1] for x in doc_to_shingles[doc1]]\r\n",
        "  idx2, val2 = [x[0] for x in doc_to_shingles[doc2]], [x[1] for x in doc_to_shingles[doc2]]\r\n",
        "  v1[idx1] = val1; v2[idx2] = val2\r\n",
        "\r\n",
        "  return cosine_similarity(v1, v2)"
      ],
      "execution_count": 21,
      "outputs": []
    },
    {
      "cell_type": "markdown",
      "metadata": {
        "id": "NCmw-_YtVR7A"
      },
      "source": [
        "#### 2.2 Random Hyperplanes"
      ]
    },
    {
      "cell_type": "code",
      "metadata": {
        "id": "4LA_-SW4VoEw"
      },
      "source": [
        "# random hyperplanes\r\n",
        "M = 256\r\n",
        "random_vectors = np.random.randn(M, len(shingles))"
      ],
      "execution_count": 22,
      "outputs": []
    },
    {
      "cell_type": "code",
      "metadata": {
        "id": "M-wptNxzWNQg"
      },
      "source": [
        "def make_signature(doc_to_shingles, random_vectors):\r\n",
        "  C = len(doc_to_shingles)\r\n",
        "  M, S = random_vectors.shape\r\n",
        "  signatures = np.array(np.ones((M, C)) * np.inf, dtype = np.int)\r\n",
        "  for doc, shin_cnt_list in doc_to_shingles.items(): #tqdm(doc_to_shingles.items()):\r\n",
        "    for i in range(M):\r\n",
        "      signatures[i][doc] = 1 if sum([random_vectors[i][sc[0]] * sc[1] for sc in shin_cnt_list]) >= 0.0 else -1 \r\n",
        "  \r\n",
        "  # Faster\r\n",
        "  # signatures = np.array([[np.sign(np.sum([random_vectors[i][sc[0]] * sc[1] for sc in shin_cnt_list])) for i in range(M)] for doc, shin_cnt_list in doc_to_shingles.items()], dtype = np.int).transpose()\r\n",
        "\r\n",
        "    ###########################################################################################\r\n",
        "    # Programming 2.3 [20pt]                                                                  #                                    \r\n",
        "    #   Implement the algorithm to create the signatures for the documents                    #\r\n",
        "    #   It would take less than 15 minutes to finish computation.                             #                      \r\n",
        "    #                                                                                         #\r\n",
        "    #  Parameters                                                                             #\r\n",
        "    #     doc_to_shingles: (dict) dictionary that maps each document to the list of shingles  #\r\n",
        "    #     random_vectors: M random vectors                                                    #\r\n",
        "    #  Returns                                                                                #\r\n",
        "    #     signatures (np.array) numpy array of size (M, C) where C is the number of documents #\r\n",
        "    #                                                                                         #\r\n",
        "    ###########################################################################################\r\n",
        "  \r\n",
        "  return signatures"
      ],
      "execution_count": 23,
      "outputs": []
    },
    {
      "cell_type": "code",
      "metadata": {
        "id": "BKpIyv7ifHpz"
      },
      "source": [
        "def compare(signatures, doc_to_shingles, trials = 10000):\r\n",
        "  M, C = signatures.shape\r\n",
        "  diff_list = []\r\n",
        "\r\n",
        "  for t in range(trials):\r\n",
        "    doc1, doc2 = np.random.choice(C, 2, replace=False)\r\n",
        "\r\n",
        "    true_sim = doc_similarity(doc1, doc2)\r\n",
        "  \r\n",
        "    sig1, sig2 = signatures[:, doc1], signatures[:, doc2]  \r\n",
        "    approx_sim = math.cos((np.sum(sig1!=sig2) * math.pi) / M)\r\n",
        "    \r\n",
        "    diff_list.append(abs(true_sim - approx_sim))\r\n",
        "\r\n",
        "  return diff_list"
      ],
      "execution_count": 24,
      "outputs": []
    },
    {
      "cell_type": "code",
      "metadata": {
        "id": "nAPGNxAuU6cI",
        "colab": {
          "base_uri": "https://localhost:8080/"
        },
        "outputId": "d47566bf-0864-4e59-cc52-d60fe7af4b1f"
      },
      "source": [
        "# Check whether your implementation is correct  [15pt]\r\n",
        "start = time.time()\r\n",
        "signatures = make_signature(doc_to_shingles, random_vectors)\r\n",
        "end = time.time()\r\n",
        "print(str(int((end - start)//60)) + ':' + str(int((end - start) % 60))) # 8:25"
      ],
      "execution_count": 25,
      "outputs": [
        {
          "output_type": "stream",
          "text": [
            "7:38\n"
          ],
          "name": "stdout"
        }
      ]
    },
    {
      "cell_type": "code",
      "metadata": {
        "id": "90UTZ2GUpbEK"
      },
      "source": [
        "np.savetxt('sign.npy', signatures)"
      ],
      "execution_count": 26,
      "outputs": []
    },
    {
      "cell_type": "code",
      "metadata": {
        "id": "tGzVyKWPpg26"
      },
      "source": [
        "signatures = np.loadtxt('sign.npy')"
      ],
      "execution_count": 27,
      "outputs": []
    },
    {
      "cell_type": "code",
      "metadata": {
        "colab": {
          "base_uri": "https://localhost:8080/"
        },
        "id": "jEI92aZPcB4W",
        "outputId": "42f07d6c-5f5f-4389-95c4-107899b51412"
      },
      "source": [
        "if (end - start) <= 15 * 60:\r\n",
        "  diff_list = compare(signatures, doc_to_shingles)\r\n",
        "  print(np.mean(diff_list))\r\n",
        "  if np.mean(diff_list) < 0.1:\r\n",
        "    pass_test_5 = True\r\n",
        "    print('Test 5 passed')"
      ],
      "execution_count": 28,
      "outputs": [
        {
          "output_type": "stream",
          "text": [
            "0.07706593559624914\n",
            "Test 5 passed\n"
          ],
          "name": "stdout"
        }
      ]
    },
    {
      "cell_type": "markdown",
      "metadata": {
        "id": "PDyrv89Uqsvm"
      },
      "source": [
        "#### 2.3 Qualitive Analysis"
      ]
    },
    {
      "cell_type": "code",
      "metadata": {
        "id": "AgS1mo4Am-3P",
        "colab": {
          "base_uri": "https://localhost:8080/"
        },
        "outputId": "3d6d80dd-16e2-4cce-c5ec-c5a192f5f77d"
      },
      "source": [
        "print('Document 3542')\r\n",
        "print(documents[3542])\r\n",
        "print('----------------------------')\r\n",
        "print('Document 8033')\r\n",
        "print(documents[8033])\r\n",
        "print('----------------------------\\n')\r\n",
        "\r\n",
        "doc1, doc2 = 3542, 8033\r\n",
        "\r\n",
        "true_sim = doc_similarity(doc1, doc2)\r\n",
        "\r\n",
        "sig1, sig2 = signatures[:, doc1], signatures[:, doc2]\r\n",
        "approx_sim = math.cos((np.sum(sig1!=sig2) * math.pi) / M)\r\n",
        "\r\n",
        "print('True cosine similarity:', true_sim)\r\n",
        "print('approx cosine similarity:', approx_sim)\r\n",
        "\r\n",
        "# Check whether your implementation is correct  [5pt]\r\n",
        "if abs(true_sim - approx_sim) < 0.05:\r\n",
        "  pass_test_6 = True\r\n",
        "  print('Test 6 passed')"
      ],
      "execution_count": 29,
      "outputs": [
        {
          "output_type": "stream",
          "text": [
            "Document 3542\n",
            "i have one complaint for the cameramen doing the jerseypitt series show the shots not the hits on more than one occassion the camera zoomed in on a check along the boards while the puck was in the slot they panned back to show the rebound maybe moms camera people were a little more experienced\n",
            "----------------------------\n",
            "Document 8033\n",
            "i have one complaint for the cameramen doing the jerseypitt series show the shots not the hits on more than one occassion the camera zoomed in on a check along the boards while the puck was in the slot they panned back to show the rebound maybe moms camera people were a little more experienced joseph stiehm exactly that is my biggest complaint about the coverage so far follow that damn puck ravi shah\n",
            "----------------------------\n",
            "\n",
            "True cosine similarity: 0.8535639569308374\n",
            "approx cosine similarity: 0.8577286100002721\n",
            "Test 6 passed\n"
          ],
          "name": "stdout"
        }
      ]
    },
    {
      "cell_type": "markdown",
      "metadata": {
        "id": "Vv-lHV2Gq8dO"
      },
      "source": [
        "### 3. Locality Sensitive Hashing"
      ]
    },
    {
      "cell_type": "code",
      "metadata": {
        "id": "DOFFNHDfLwot"
      },
      "source": [
        "########################################################################################################################\r\n",
        "# Programming 3  [35pt]                                                                                                #\r\n",
        "#  In this section, you will implement the Min-Hash based Locality Sensitive Hashing algorithm to convert signatures   #\r\n",
        "#  into the similar document pair candidates                                                                           #\r\n",
        "#  Finally, we will test our results based on the precision, recall and F1 score                                       #\r\n",
        "#                                                                                                                      #\r\n",
        "#   1) get the similar document pair candidates [20pt]                                                                 #\r\n",
        "#   2) calculate precision, recall, and f1 score [10pt]                                                                #\r\n",
        "#                                                                                                                      #\r\n",
        "########################################################################################################################"
      ],
      "execution_count": 30,
      "outputs": []
    },
    {
      "cell_type": "markdown",
      "metadata": {
        "id": "F0SnFd9yrCqX"
      },
      "source": [
        "#### 3.1. Random Hyperplane based LSH"
      ]
    },
    {
      "cell_type": "code",
      "metadata": {
        "id": "C1xyTIamrCWO"
      },
      "source": [
        "def lsh(signatures, b, r):\r\n",
        "    #########################################################################################################\r\n",
        "    # Programming 3.1 [20pt]                                                                                #\r\n",
        "    #   Implement the min-hash based LSH algorithm to find the candidate pairs of the similar documents.    #\r\n",
        "    #   In the implementation, use python's dictionary to make your hash table,                             #\r\n",
        "    #   where each column is hashedinto a bucket.                                                           #\r\n",
        "    #   Convert each column vector (within a band) into the tuple and use it as a key of the dictionary.    #\r\n",
        "    #                                                                                                       #\r\n",
        "    #  Parameters                                                                                           #\r\n",
        "    #     signatures: (np.array) numpy array of size (M, C) where                                           #\r\n",
        "    #                M is the number of min-hash functions, C is the number of documents                    #\r\n",
        "    #     b: (int) the number of bands                                                                      #\r\n",
        "    #     r: (int) the number of rows per each band                                                         #\r\n",
        "    #                                                                                                       #\r\n",
        "    #  Requirements                                                                                         #\r\n",
        "    #     1) M should be equivalent to b * r                                                                #\r\n",
        "    #                                                                                                       #\r\n",
        "    #  Returns                                                                                              #\r\n",
        "    #     candidatePairs (Set[Tuple[int, int]]) set of the pairs of indexes of candidate document pairs     #\r\n",
        "    #                                                                                                       #\r\n",
        "    #########################################################################################################\r\n",
        "    M = signatures.shape[0]  # The number of min-hash functions\r\n",
        "    C = signatures.shape[1]  # The number of documents\r\n",
        "\r\n",
        "    assert M == b * r\r\n",
        "    r = M // b\r\n",
        "    bands = [np.array(signatures[i*r:(i+1)*r]).transpose() for i in range(b - 1)]\r\n",
        "    bands.append(np.array(signatures[(b-1)*r:]).transpose())\r\n",
        "    buckets = [{} for band in  bands]\r\n",
        "    for i, band in enumerate(bands):\r\n",
        "      [buckets[i].update({tuple(col): []}) for col in band]\r\n",
        "      [buckets[i][tuple(col)].append(j) for j, col in enumerate(band)]\r\n",
        "    candidatePairs = set()\r\n",
        "    [[[candidatePairs.add(pair) for pair in itertools.combinations(v, 2)] for v in bucket.values() if len(v) > 1] for bucket in buckets]\r\n",
        "    # Faster\r\n",
        "    # candidate = []\r\n",
        "    # [[[candidate.append(pair) for pair in itertools.combinations(v, 2)] for v in bucket.values() if len(v) > 1] for bucket in buckets]\r\n",
        "    # candidatePairs = set(candidate)\r\n",
        "\r\n",
        "    # Slower\r\n",
        "    # for bucket in buckets:\r\n",
        "    #   for k, v in bucket.items():\r\n",
        "    #     if len(v) < 2:\r\n",
        "    #       continue\r\n",
        "    #     candidatePairs = candidatePairs.union(set(itertools.combinations(v, 2)))\r\n",
        "    ### Implementation End ###\r\n",
        "\r\n",
        "    return candidatePairs"
      ],
      "execution_count": 31,
      "outputs": []
    },
    {
      "cell_type": "code",
      "metadata": {
        "id": "dqHBAgAD0hKt",
        "colab": {
          "base_uri": "https://localhost:8080/"
        },
        "outputId": "b83aca36-1de7-4d93-979f-6947c5dc2950"
      },
      "source": [
        "for b in [2, 4, 8]:\r\n",
        "  r = M // b\r\n",
        "  tmpPairs = list(lsh(signatures, b, r))\r\n",
        "\r\n",
        "  sim_list = []\r\n",
        "  for i in range(len(tmpPairs)):\r\n",
        "    sim_list.append(doc_similarity(tmpPairs[i][0], tmpPairs[i][1]))\r\n",
        "  \r\n",
        "  # Check whether your implementation is correct  [20pt] (b=2: 5pt / b=4: 5pt / b=8: 10pt)\r\n",
        "  avg_sim = sum(sim_list) / len(sim_list)\r\n",
        "  print(avg_sim)\r\n",
        "  if avg_sim > 0.985:\r\n",
        "    if b == 2:\r\n",
        "      pass_test_7 = True\r\n",
        "      print('Test 7 passed')\r\n",
        "    elif b == 4:\r\n",
        "      pass_test_8 = True\r\n",
        "      print('Test 8 passed')\r\n",
        "    elif b == 8:\r\n",
        "      pass_test_9 = True\r\n",
        "      print('Test 9 passed')"
      ],
      "execution_count": 32,
      "outputs": [
        {
          "output_type": "stream",
          "text": [
            "1.0\n",
            "Test 7 passed\n",
            "0.9997239889140103\n",
            "Test 8 passed\n",
            "0.9980833183646097\n",
            "Test 9 passed\n"
          ],
          "name": "stdout"
        }
      ]
    },
    {
      "cell_type": "markdown",
      "metadata": {
        "id": "ppA725Av0Qch"
      },
      "source": [
        "#### 3.2. Compute the precision, recall, and F1 score"
      ]
    },
    {
      "cell_type": "code",
      "metadata": {
        "id": "OYNtWuBvwWli"
      },
      "source": [
        "def query_analysis(signatures, b, s, numConditionPositives):\r\n",
        "    ###########################################################################################################\r\n",
        "    # Programming 3.2 [10pt]                                                                                  #\r\n",
        "    #   Calculate the query time, precision, recall, and F1 score for the given configuration                 #\r\n",
        "    #                                                                                                         #\r\n",
        "    #  Parameters                                                                                             #\r\n",
        "    #     signatures: (np.array) numpy array of size (M, C) where                                             #\r\n",
        "    #                M is the number of min-hash functions, C is the number of documents                      #\r\n",
        "    #     b: (int) the number of bands                                                                        #\r\n",
        "    #     s: (float) similarity threshold for checking condition positives                                    #\r\n",
        "    #     numConditionPositives: (int) the number of condition positives                                      #\r\n",
        "    #                                                                                                         #\r\n",
        "    #  Requirements                                                                                           #\r\n",
        "    #     1) b should be the divisor of M                                                                     #\r\n",
        "    #     2) 0 <= s <= 1                                                                                      #\r\n",
        "    #                                                                                                         #\r\n",
        "    #  Returns                                                                                                #\r\n",
        "    #     query time: (float) the execution time of the codes which find the similar document candidate pairs #\r\n",
        "    #     precision: (float)                                                                                  #\r\n",
        "    #     recall: (float)                                                                                     #\r\n",
        "    #     f1: (float) F1-Score                                                                                #\r\n",
        "    #                                                                                                         #\r\n",
        "    ###########################################################################################################\r\n",
        "    M = signatures.shape[0]  # The number of min-hash functions\r\n",
        "    assert M % b == 0\r\n",
        "    r = M // b\r\n",
        "    start = time.time()\r\n",
        "    temp = list(lsh(signatures, b, r))\r\n",
        "    TP = len([1 for pair in temp if doc_similarity(pair[0], pair[1]) > s])\r\n",
        "    end = time.time()\r\n",
        "    query_time = end - start\r\n",
        "    precision = TP / len(temp)\r\n",
        "    recall = TP / numConditionPositives\r\n",
        "    f1 = 2 * (precision * recall) / (precision + recall)\r\n",
        "    \r\n",
        "    ### Implementation End ###\r\n",
        "\r\n",
        "    return query_time, precision, recall, f1"
      ],
      "execution_count": 33,
      "outputs": []
    },
    {
      "cell_type": "code",
      "metadata": {
        "id": "UBvkfmCU7QMa",
        "colab": {
          "base_uri": "https://localhost:8080/"
        },
        "outputId": "25f83457-99ad-42ae-f1de-78e4b72cdba4"
      },
      "source": [
        "b_list = [2, 4, 8, 16]\r\n",
        "\r\n",
        "query_time_list = list()\r\n",
        "precision_list = list()\r\n",
        "recall_list = list()\r\n",
        "f1_list = list()\r\n",
        "\r\n",
        "# Compute the number of positives\r\n",
        "s = 0.8                         # threshold\r\n",
        "numConditionPositives = 183     # This is the computed result when s=0.8, but I gave it to you to save your time.\r\n",
        "\r\n",
        "for b in b_list:\r\n",
        "    query_time, precision, recall, f1 = query_analysis(signatures, b, s, numConditionPositives)\r\n",
        "    print(b, query_time, precision, recall, f1)\r\n",
        "    query_time_list.append(query_time)\r\n",
        "    precision_list.append(precision)\r\n",
        "    recall_list.append(recall)\r\n",
        "    f1_list.append(f1)"
      ],
      "execution_count": 34,
      "outputs": [
        {
          "output_type": "stream",
          "text": [
            "2 1.7527902126312256 1.0 0.5300546448087432 0.692857142857143\n",
            "4 1.9164652824401855 1.0 0.546448087431694 0.7067137809187279\n",
            "8 2.109386682510376 1.0 0.5956284153005464 0.7465753424657534\n",
            "16 123.58508253097534 0.010933094959774462 0.8688524590163934 0.021594458780388428\n"
          ],
          "name": "stdout"
        }
      ]
    },
    {
      "cell_type": "code",
      "metadata": {
        "id": "CLqLpCPxExQl",
        "colab": {
          "base_uri": "https://localhost:8080/"
        },
        "outputId": "17ef24e4-b790-40a3-f755-dab920d46743"
      },
      "source": [
        "print(\"b: \", b_list)\r\n",
        "print(\"Query times: \", query_time_list)\r\n",
        "print(\"Precisions: \", precision_list)\r\n",
        "print(\"Recalls: \", recall_list)\r\n",
        "print(\"F1 scores: \", f1_list)"
      ],
      "execution_count": 43,
      "outputs": [
        {
          "output_type": "stream",
          "text": [
            "b:  [2, 4, 8, 16]\n",
            "Query times:  [1.7527902126312256, 1.9164652824401855, 2.109386682510376, 123.58508253097534]\n",
            "Precisions:  [1.0, 1.0, 1.0, 0.010933094959774462]\n",
            "Recalls:  [0.5300546448087432, 0.546448087431694, 0.5956284153005464, 0.8688524590163934]\n",
            "F1 scores:  [0.692857142857143, 0.7067137809187279, 0.7465753424657534, 0.021594458780388428]\n"
          ],
          "name": "stdout"
        }
      ]
    },
    {
      "cell_type": "code",
      "metadata": {
        "id": "PvyampjKB3Q9",
        "colab": {
          "base_uri": "https://localhost:8080/",
          "height": 295
        },
        "outputId": "d7450f86-89a6-4218-c6d2-7f98590e5bc0"
      },
      "source": [
        "plt.title(f\"Query time (s={s})\")\r\n",
        "plt.xlabel(\"b\")\r\n",
        "plt.ylabel(\"Query time [sec]\")\r\n",
        "plt.plot(b_list, query_time_list)\r\n",
        "plt.show()"
      ],
      "execution_count": 44,
      "outputs": [
        {
          "output_type": "display_data",
          "data": {
            "image/png": "[encoded data removed]",
            "text/plain": [
              "<Figure size 432x288 with 1 Axes>"
            ]
          },
          "metadata": {
            "tags": [],
            "needs_background": "light"
          }
        }
      ]
    },
    {
      "cell_type": "code",
      "metadata": {
        "id": "cuCGeHwwDK2W",
        "colab": {
          "base_uri": "https://localhost:8080/",
          "height": 295
        },
        "outputId": "cc590389-d300-4519-deb3-11383fd8e9ac"
      },
      "source": [
        "plt.title(f\"Precision (s={s})\")\r\n",
        "plt.xlabel(\"b\")\r\n",
        "plt.ylabel(\"Precision\")\r\n",
        "plt.plot(b_list, precision_list)\r\n",
        "plt.show()"
      ],
      "execution_count": 45,
      "outputs": [
        {
          "output_type": "display_data",
          "data": {
            "image/png": "[encoded data removed]",
            "text/plain": [
              "<Figure size 432x288 with 1 Axes>"
            ]
          },
          "metadata": {
            "tags": [],
            "needs_background": "light"
          }
        }
      ]
    },
    {
      "cell_type": "code",
      "metadata": {
        "id": "TnjdXmtPDLkV",
        "colab": {
          "base_uri": "https://localhost:8080/",
          "height": 295
        },
        "outputId": "7f044e40-1461-4fa7-942e-9e3873d42d0c"
      },
      "source": [
        "plt.title(f\"Recall (s={s})\")\r\n",
        "plt.xlabel(\"b\")\r\n",
        "plt.ylabel(\"Recall\")\r\n",
        "plt.plot(b_list, recall_list)\r\n",
        "plt.show()"
      ],
      "execution_count": 46,
      "outputs": [
        {
          "output_type": "display_data",
          "data": {
            "image/png": "[encoded data removed]",
            "text/plain": [
              "<Figure size 432x288 with 1 Axes>"
            ]
          },
          "metadata": {
            "tags": [],
            "needs_background": "light"
          }
        }
      ]
    },
    {
      "cell_type": "code",
      "metadata": {
        "id": "siT5MXfmDMPt",
        "colab": {
          "base_uri": "https://localhost:8080/",
          "height": 295
        },
        "outputId": "c32714a7-c09a-4446-bc94-1acad60ca9b7"
      },
      "source": [
        "plt.title(f\"F1 Score (s={s})\")\r\n",
        "plt.xlabel(\"b\")\r\n",
        "plt.ylabel(\"F1 Score\")\r\n",
        "plt.plot(b_list, f1_list)\r\n",
        "plt.show()"
      ],
      "execution_count": 47,
      "outputs": [
        {
          "output_type": "display_data",
          "data": {
            "image/png": "[encoded data removed]",
            "text/plain": [
              "<Figure size 432x288 with 1 Axes>"
            ]
          },
          "metadata": {
            "tags": [],
            "needs_background": "light"
          }
        }
      ]
    },
    {
      "cell_type": "code",
      "metadata": {
        "id": "rYmbI_FPDNL9",
        "colab": {
          "base_uri": "https://localhost:8080/"
        },
        "outputId": "a50a7961-cda8-41aa-9a0d-54670d572654"
      },
      "source": [
        "# Check whether the test passed\r\n",
        "test_msg = {True: \"Passed\", False: \"Failed\"}\r\n",
        "\r\n",
        "print(\"-----Test results-----\")\r\n",
        "print('Test 1:', test_msg[pass_test_1])\r\n",
        "print('Test 2:', test_msg[pass_test_2])\r\n",
        "print('Test 3:', test_msg[pass_test_3])\r\n",
        "print('Test 4:', test_msg[pass_test_4])\r\n",
        "print('Test 5:', test_msg[pass_test_5])\r\n",
        "print('Test 6:', test_msg[pass_test_6])\r\n",
        "print('Test 7:', test_msg[pass_test_7])\r\n",
        "print('Test 8:', test_msg[pass_test_8])\r\n",
        "print('Test 9:', test_msg[pass_test_9])\r\n",
        "print(\"----------------------\")"
      ],
      "execution_count": 48,
      "outputs": [
        {
          "output_type": "stream",
          "text": [
            "-----Test results-----\n",
            "Test 1: Passed\n",
            "Test 2: Passed\n",
            "Test 3: Passed\n",
            "Test 4: Passed\n",
            "Test 5: Passed\n",
            "Test 6: Passed\n",
            "Test 7: Passed\n",
            "Test 8: Passed\n",
            "Test 9: Passed\n",
            "----------------------\n"
          ],
          "name": "stdout"
        }
      ]
    },
    {
      "cell_type": "code",
      "metadata": {
        "id": "njfWiv1fvg-E"
      },
      "source": [
        ""
      ],
      "execution_count": 48,
      "outputs": []
    }
  ]
}
